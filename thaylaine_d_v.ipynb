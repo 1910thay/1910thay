{
  "nbformat": 4,
  "nbformat_minor": 0,
  "metadata": {
    "colab": {
      "provenance": [],
      "authorship_tag": "ABX9TyPug3m8UeFO6S5aFjLf5Eo2",
      "include_colab_link": true
    },
    "kernelspec": {
      "name": "python3",
      "display_name": "Python 3"
    },
    "language_info": {
      "name": "python"
    }
  },
  "cells": [
    {
      "cell_type": "markdown",
      "metadata": {
        "id": "view-in-github",
        "colab_type": "text"
      },
      "source": [
        "<a href=\"https://colab.research.google.com/github/1910thay/1910thay/blob/main/thaylaine_d_v.ipynb\" target=\"_parent\"><img src=\"https://colab.research.google.com/assets/colab-badge.svg\" alt=\"Open In Colab\"/></a>"
      ]
    },
    {
      "cell_type": "code",
      "execution_count": 1,
      "metadata": {
        "colab": {
          "base_uri": "https://localhost:8080/"
        },
        "id": "zpoojjNkzk9d",
        "outputId": "8e08f212-d9de-4a82-cd9b-14fd7e6b683f"
      },
      "outputs": [
        {
          "output_type": "stream",
          "name": "stdout",
          "text": [
            "O ano atual é: 2025\n"
          ]
        }
      ],
      "source": [
        "#QUESTÃO 7 (2 PONTOS) – Escreva um código completo em Python que utilize a biblioteca DATETIME para obter e exibir o ano atual na tela.\n",
        "import datetime\n",
        "ano_atual = datetime.datetime.now().year\n",
        "print(\"O ano atual é:\", ano_atual)\n",
        "\n"
      ]
    },
    {
      "cell_type": "code",
      "source": [
        "#QUESTÃO 8 (2 PONTOS) – Escreva um programa em Python que utilize um laço for para imprimir os números de 1 a 10.\n",
        "contador = 0\n",
        "while True:\n",
        "  contador += 1\n",
        "  if contador == 3:\n",
        "           continue\n",
        "  if contador == 6:\n",
        "             continue\n",
        "  if contador == 9:\n",
        "             continue\n",
        "  if contador == 10:\n",
        "        break\n",
        "  print(contador)\n",
        "\n",
        "\n",
        "\n"
      ],
      "metadata": {
        "colab": {
          "base_uri": "https://localhost:8080/"
        },
        "id": "V83tqgOzz9ry",
        "outputId": "b28b957f-5635-4958-8da2-6bc3107a1da1"
      },
      "execution_count": 13,
      "outputs": [
        {
          "output_type": "stream",
          "name": "stdout",
          "text": [
            "1\n",
            "2\n",
            "4\n",
            "5\n",
            "7\n",
            "8\n"
          ]
        }
      ]
    },
    {
      "cell_type": "code",
      "source": [
        "from google.colab import drive\n",
        "drive.mount('/content/drive')"
      ],
      "metadata": {
        "id": "PDLKPfuD_Ain"
      },
      "execution_count": null,
      "outputs": []
    },
    {
      "cell_type": "code",
      "source": [
        "#QUESTÃO 9 (3 PONTOS) – A função INPUT() em Python é usada para receber entrada do usuário. Ela exibe uma mensagem (prompt), aguarda o que for digitado pelo teclado e retorna o valor como uma STRING.\n",
        "\n",
        "frase = input(\"Digite uma frase: \")\n",
        "quantidade_caracteres = len(frase)\n",
        "\n",
        "if quantidade_caracteres> 10:\n",
        " print(\"A frase possui\", quantidade_caracteres, \"caracteres.\")\n"
      ],
      "metadata": {
        "colab": {
          "base_uri": "https://localhost:8080/"
        },
        "id": "3_GFz07Fz99I",
        "outputId": "4bbd649e-7e24-4c9d-ff23-c5834cfdf425"
      },
      "execution_count": 18,
      "outputs": [
        {
          "output_type": "stream",
          "name": "stdout",
          "text": [
            "Digite uma frase:  você e meu amigo \n",
            "A frase possui 18 caracteres.\n"
          ]
        }
      ]
    },
    {
      "cell_type": "code",
      "source": [
        "#QUESTÃO 10 (3 PONTOS) - Em Python, uma variável é um nome associado a um espaço na memória usado para armazenar um único valor por vez. Ela permite guardar informações que podem ser reutilizadas ao longo do programa\n",
        "\n",
        "pote_a = input(\"Digite um valor para o POTE_A: \")\n",
        "pote_b = input(\"Digite um valor para o POTE_B: \")\n",
        "\n",
        "temp = pote_a\n",
        "pote_a = pote_b\n",
        "pote_b = temp\n",
        "\n",
        "print(\"Após a troca:\")\n",
        "print(\"POTE_A:\", pote_a)\n",
        "print(\"POTE_B:\", pote_b)"
      ],
      "metadata": {
        "colab": {
          "base_uri": "https://localhost:8080/"
        },
        "id": "0KavDIfuz-Fw",
        "outputId": "142d8417-7a4f-4bc3-eafb-62aef9b8eb45"
      },
      "execution_count": 48,
      "outputs": [
        {
          "output_type": "stream",
          "name": "stdout",
          "text": [
            "Digite um valor para o POTE_A: 20\n",
            "Digite um valor para o POTE_B: 15\n",
            "Após a troca:\n",
            "POTE_A: 15\n",
            "POTE_B: 20\n"
          ]
        }
      ]
    }
  ]
}